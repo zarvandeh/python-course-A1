{
 "cells": [
  {
   "cell_type": "markdown",
   "id": "20b59171",
   "metadata": {},
   "source": [
    "# What is a dictionary\n",
    "A Python dictionary is a data structure that allows us to easily write very efficient code. In many other languages, this data structure is called a hash table because its keys are hashable.\n",
    "\n",
    "A Python dictionary is a collection of key:value pairs. You can think about them as words and their meaning in an ordinary dictionary. Values are said to be mapped to keys. "
   ]
  },
  {
   "cell_type": "markdown",
   "id": "5db7ddcc",
   "metadata": {},
   "source": [
    "## How to Create a Dictionary?\n",
    "\n",
    "We have two main methods to define a dictionary: with curly braces {} or using the dict() method."
   ]
  },
  {
   "cell_type": "code",
   "execution_count": 3,
   "id": "d0f6cce7",
   "metadata": {},
   "outputs": [],
   "source": [
    "dict1={\n",
    "    'key1':'Value1','key2':'Value2'\n",
    "}"
   ]
  },
  {
   "cell_type": "code",
   "execution_count": 4,
   "id": "67ff8009",
   "metadata": {},
   "outputs": [
    {
     "data": {
      "text/plain": [
       "{'key1': 'Value1', 'key2': 'Value2'}"
      ]
     },
     "execution_count": 4,
     "metadata": {},
     "output_type": "execute_result"
    }
   ],
   "source": [
    "dict1"
   ]
  },
  {
   "cell_type": "code",
   "execution_count": 5,
   "id": "41925320",
   "metadata": {},
   "outputs": [
    {
     "ename": "SyntaxError",
     "evalue": "expression cannot contain assignment, perhaps you meant \"==\"? (3300699588.py, line 1)",
     "output_type": "error",
     "traceback": [
      "\u001b[1;36m  Input \u001b[1;32mIn [5]\u001b[1;36m\u001b[0m\n\u001b[1;33m    dict2=dict('k1'='val1','k2'='val2','k3'='val3')\u001b[0m\n\u001b[1;37m               ^\u001b[0m\n\u001b[1;31mSyntaxError\u001b[0m\u001b[1;31m:\u001b[0m expression cannot contain assignment, perhaps you meant \"==\"?\n"
     ]
    }
   ],
   "source": [
    "dict2=dict('k1'='val1','k2'='val2','k3'='val3')"
   ]
  },
  {
   "cell_type": "code",
   "execution_count": 8,
   "id": "1e734eed",
   "metadata": {},
   "outputs": [],
   "source": [
    "## Keyword argument list\n",
    "\n",
    "dict2=dict(k1='val1',k2='val2',k3='val3')"
   ]
  },
  {
   "cell_type": "code",
   "execution_count": 7,
   "id": "7e66b786",
   "metadata": {},
   "outputs": [
    {
     "data": {
      "text/plain": [
       "{'k1': 'val1', 'k2': 'val2', 'k3': 'val3'}"
      ]
     },
     "execution_count": 7,
     "metadata": {},
     "output_type": "execute_result"
    }
   ],
   "source": [
    "dict2"
   ]
  },
  {
   "cell_type": "code",
   "execution_count": 9,
   "id": "e8c7f6f6",
   "metadata": {},
   "outputs": [],
   "source": [
    "## passing a list as key value arguments"
   ]
  },
  {
   "cell_type": "code",
   "execution_count": 11,
   "id": "4db4ef17",
   "metadata": {},
   "outputs": [
    {
     "data": {
      "text/plain": [
       "{'key1': 'value1', 'key2': 'value2'}"
      ]
     },
     "execution_count": 11,
     "metadata": {},
     "output_type": "execute_result"
    }
   ],
   "source": [
    "dict3 = dict([(\"key1\", \"value1\"), (\"key2\", \"value2\")])\n",
    "dict3"
   ]
  },
  {
   "cell_type": "markdown",
   "id": "6fd4c8a4",
   "metadata": {},
   "source": [
    "## How to access dictionary values in Python\n",
    "You can't access dictionary values using the index.\n",
    "\n"
   ]
  },
  {
   "cell_type": "code",
   "execution_count": 30,
   "id": "4fd8dd4c",
   "metadata": {},
   "outputs": [
    {
     "ename": "KeyError",
     "evalue": "1",
     "output_type": "error",
     "traceback": [
      "\u001b[1;31m---------------------------------------------------------------------------\u001b[0m",
      "\u001b[1;31mKeyError\u001b[0m                                  Traceback (most recent call last)",
      "Input \u001b[1;32mIn [30]\u001b[0m, in \u001b[0;36m<cell line: 7>\u001b[1;34m()\u001b[0m\n\u001b[0;32m      1\u001b[0m my_dict \u001b[38;5;241m=\u001b[39m {\n\u001b[0;32m      2\u001b[0m     \u001b[38;5;124m\"\u001b[39m\u001b[38;5;124mName\u001b[39m\u001b[38;5;124m\"\u001b[39m: \u001b[38;5;124m\"\u001b[39m\u001b[38;5;124mKrishna\u001b[39m\u001b[38;5;124m\"\u001b[39m,\n\u001b[0;32m      3\u001b[0m     \u001b[38;5;124m\"\u001b[39m\u001b[38;5;124mRoll\u001b[39m\u001b[38;5;124m\"\u001b[39m: \u001b[38;5;241m23\u001b[39m,\n\u001b[0;32m      4\u001b[0m     \u001b[38;5;124m\"\u001b[39m\u001b[38;5;124mSubjects\u001b[39m\u001b[38;5;124m\"\u001b[39m: [\u001b[38;5;124m\"\u001b[39m\u001b[38;5;124mOS\u001b[39m\u001b[38;5;124m\"\u001b[39m, \u001b[38;5;124m\"\u001b[39m\u001b[38;5;124mNetwork\u001b[39m\u001b[38;5;124m\"\u001b[39m, \u001b[38;5;124m\"\u001b[39m\u001b[38;5;124mDBMS\u001b[39m\u001b[38;5;124m\"\u001b[39m]\n\u001b[0;32m      5\u001b[0m }\n\u001b[1;32m----> 7\u001b[0m \u001b[38;5;28mprint\u001b[39m(\u001b[43mmy_dict\u001b[49m\u001b[43m[\u001b[49m\u001b[38;5;241;43m1\u001b[39;49m\u001b[43m]\u001b[49m)\n",
      "\u001b[1;31mKeyError\u001b[0m: 1"
     ]
    }
   ],
   "source": [
    "my_dict = {\n",
    "    \"Name\": \"Krishna\",\n",
    "    \"Roll\": 23,\n",
    "    \"Subjects\": [\"OS\", \"Network\", \"DBMS\"]\n",
    "}\n",
    "\n",
    "print(my_dict[1])"
   ]
  },
  {
   "cell_type": "raw",
   "id": "d182c945",
   "metadata": {},
   "source": [
    "Notice that the exception is called KeyError. Does that mean the dictionary values can be accessed using the keys?/\n",
    "my_dict['Name'] Yes, you got it right!\n",
    "\n",
    "You can get a value from a dictionary by specifying its corresponding key in square brackets ([])."
   ]
  },
  {
   "cell_type": "code",
   "execution_count": 16,
   "id": "8db9f429",
   "metadata": {},
   "outputs": [
    {
     "data": {
      "text/plain": [
       "'Krishna'"
      ]
     },
     "execution_count": 16,
     "metadata": {},
     "output_type": "execute_result"
    }
   ],
   "source": [
    "my_dict['Name'] "
   ]
  },
  {
   "cell_type": "code",
   "execution_count": 17,
   "id": "ccd7ef3d",
   "metadata": {},
   "outputs": [
    {
     "data": {
      "text/plain": [
       "['OS', 'Network', 'DBMS']"
      ]
     },
     "execution_count": 17,
     "metadata": {},
     "output_type": "execute_result"
    }
   ],
   "source": [
    "my_dict['Subjects']"
   ]
  },
  {
   "cell_type": "raw",
   "id": "3af3ee16",
   "metadata": {},
   "source": [
    "# But we can also avoid this error using the get() function."
   ]
  },
  {
   "cell_type": "code",
   "execution_count": 18,
   "id": "861b09e3",
   "metadata": {},
   "outputs": [],
   "source": [
    "my_dict.get('College')"
   ]
  },
  {
   "cell_type": "markdown",
   "id": "c337104a",
   "metadata": {},
   "source": [
    "## How to update a dictionary in Python\n",
    "\n",
    "Dictionaries are mutable, which means they can be modified. We can add a new {key:value} pair or modify existing ones.\n",
    "\n",
    "Adding a new item in the dictionary is quite easy using the assignment operator, like this:"
   ]
  },
  {
   "cell_type": "code",
   "execution_count": 32,
   "id": "53c57ff2",
   "metadata": {},
   "outputs": [
    {
     "data": {
      "text/plain": [
       "{'Name': 'Krishna',\n",
       " 'Roll': 35,\n",
       " 'Subjects': ['OS', 'Network', 'DBMS'],\n",
       " 'College': 'NSEC'}"
      ]
     },
     "execution_count": 32,
     "metadata": {},
     "output_type": "execute_result"
    }
   ],
   "source": [
    "my_dict['College'] = 'NSEC'\n",
    "my_dict    "
   ]
  },
  {
   "cell_type": "raw",
   "id": "bff60779",
   "metadata": {},
   "source": [
    "!!!! If the key is already present in the dictionary, it will update the value of that key."
   ]
  },
  {
   "cell_type": "code",
   "execution_count": 31,
   "id": "7080041e",
   "metadata": {},
   "outputs": [
    {
     "data": {
      "text/plain": [
       "{'Name': 'Krishna', 'Roll': 35, 'Subjects': ['OS', 'Network', 'DBMS']}"
      ]
     },
     "execution_count": 31,
     "metadata": {},
     "output_type": "execute_result"
    }
   ],
   "source": [
    "my_dict['Roll'] = 35\n",
    "my_dict"
   ]
  },
  {
   "cell_type": "markdown",
   "id": "73eb00ad",
   "metadata": {},
   "source": [
    "### How to update a dict using the update() method\n",
    "\n",
    "The update() method takes either a dictionary or an iterable object of key/value pairs (generally tuples).\n",
    "\n",
    "We can also update the dictionary using the built-in update() method like this:"
   ]
  },
  {
   "cell_type": "code",
   "execution_count": 33,
   "id": "cfbd4351",
   "metadata": {},
   "outputs": [
    {
     "name": "stdout",
     "output_type": "stream",
     "text": [
      "{'Name': 'Krishna', 'Roll': 35, 'Subjects': ['OS', 'Network', 'DBMS'], 'College': 'NSEC'}\n",
      "{'Branch': 'IT'}\n"
     ]
    }
   ],
   "source": [
    ">>> my_dict\n",
    "{'Name': 'Ashutosh Krishna', 'Roll': 35, 'Subjects': ['OS', 'CN', 'DBMS'], 'College': 'NSEC'}\n",
    ">>> another_dict = {'Branch': 'IT'}\n",
    "print(my_dict)\n",
    "print(another_dict)"
   ]
  },
  {
   "cell_type": "code",
   "execution_count": 34,
   "id": "45903a53",
   "metadata": {},
   "outputs": [
    {
     "data": {
      "text/plain": [
       "{'Name': 'Ashutosh Krishna',\n",
       " 'Roll': 35,\n",
       " 'Subjects': ['OS', 'CN', 'DBMS'],\n",
       " 'College': 'NSEC',\n",
       " 'Branch': 'IT'}"
      ]
     },
     "execution_count": 34,
     "metadata": {},
     "output_type": "execute_result"
    }
   ],
   "source": [
    ">>> my_dict.update(another_dict)\n",
    ">>> my_dict\n",
    "{'Name': 'Ashutosh Krishna', 'Roll': 35, 'Subjects': ['OS', 'CN', 'DBMS'], 'College': 'NSEC', 'Branch': 'IT'}"
   ]
  },
  {
   "cell_type": "code",
   "execution_count": 35,
   "id": "8864b544",
   "metadata": {},
   "outputs": [
    {
     "data": {
      "text/plain": [
       "{'Name': 'Krishna',\n",
       " 'Roll': 35,\n",
       " 'Subjects': ['OS', 'Network', 'DBMS'],\n",
       " 'College': 'NSEC',\n",
       " 'Branch': 'CSE'}"
      ]
     },
     "execution_count": 35,
     "metadata": {},
     "output_type": "execute_result"
    }
   ],
   "source": [
    ">>> my_dict.update(Branch='CSE') \n",
    "my_dict"
   ]
  },
  {
   "cell_type": "markdown",
   "id": "1ae16c65",
   "metadata": {},
   "source": [
    "## How to remove elements from dictionary in Python\n",
    "There are several ways to remove elements from a Python dictionary.\n",
    "\n",
    "1. We can remove a particular item in a dictionary by using the pop() method. This method removes an item with the provided key and returns the value.\n",
    "2. The popitem() removes the last key-value pair and returns it as a tuple:\n",
    "3. You can use the del keyword to delete a particular {key:value} pair or even the entire dictionary\n",
    "4. The clear method clears all the {key:value} pairs in the dictionary"
   ]
  },
  {
   "cell_type": "code",
   "execution_count": 36,
   "id": "1b1dc455",
   "metadata": {},
   "outputs": [
    {
     "name": "stdout",
     "output_type": "stream",
     "text": [
      "35\n",
      "{'Name': 'Krishna', 'Subjects': ['OS', 'Network', 'DBMS'], 'College': 'NSEC', 'Branch': 'CSE'}\n"
     ]
    }
   ],
   "source": [
    ">>> roll = my_dict.pop('Roll') \n",
    ">>> print(roll)\n",
    ">>> print(my_dict)"
   ]
  },
  {
   "cell_type": "code",
   "execution_count": 37,
   "id": "aafd2346",
   "metadata": {},
   "outputs": [
    {
     "data": {
      "text/plain": [
       "('Branch', 'CSE')"
      ]
     },
     "execution_count": 37,
     "metadata": {},
     "output_type": "execute_result"
    }
   ],
   "source": [
    "my_dict.popitem()"
   ]
  },
  {
   "cell_type": "code",
   "execution_count": 39,
   "id": "fc5e26ee",
   "metadata": {},
   "outputs": [
    {
     "name": "stdout",
     "output_type": "stream",
     "text": [
      "{'Name': 'Krishna', 'Subjects': ['OS', 'Network', 'DBMS'], 'College': 'NSEC'}\n"
     ]
    }
   ],
   "source": [
    "print(my_dict)"
   ]
  },
  {
   "cell_type": "code",
   "execution_count": 40,
   "id": "39387672",
   "metadata": {},
   "outputs": [
    {
     "data": {
      "text/plain": [
       "{'Name': 'Krishna', 'College': 'NSEC'}"
      ]
     },
     "execution_count": 40,
     "metadata": {},
     "output_type": "execute_result"
    }
   ],
   "source": [
    "del my_dict['Subjects'] \n",
    ">>> my_dict"
   ]
  },
  {
   "cell_type": "code",
   "execution_count": 41,
   "id": "c89b6182",
   "metadata": {},
   "outputs": [
    {
     "data": {
      "text/plain": [
       "{}"
      ]
     },
     "execution_count": 41,
     "metadata": {},
     "output_type": "execute_result"
    }
   ],
   "source": [
    ">>> my_dict.clear()\n",
    ">>> my_dict"
   ]
  },
  {
   "cell_type": "code",
   "execution_count": 42,
   "id": "81a4f3c3",
   "metadata": {},
   "outputs": [
    {
     "ename": "NameError",
     "evalue": "name 'my_dict' is not defined",
     "output_type": "error",
     "traceback": [
      "\u001b[1;31m---------------------------------------------------------------------------\u001b[0m",
      "\u001b[1;31mNameError\u001b[0m                                 Traceback (most recent call last)",
      "Input \u001b[1;32mIn [42]\u001b[0m, in \u001b[0;36m<cell line: 2>\u001b[1;34m()\u001b[0m\n\u001b[0;32m      1\u001b[0m \u001b[38;5;28;01mdel\u001b[39;00m my_dict\n\u001b[1;32m----> 2\u001b[0m \u001b[43mmy_dict\u001b[49m\n",
      "\u001b[1;31mNameError\u001b[0m: name 'my_dict' is not defined"
     ]
    }
   ],
   "source": [
    ">>> del my_dict\n",
    ">>> my_dict"
   ]
  },
  {
   "cell_type": "markdown",
   "id": "f77e059e",
   "metadata": {},
   "source": [
    "# Dictionary attributes and methods"
   ]
  },
  {
   "cell_type": "code",
   "execution_count": 45,
   "id": "6adf3230",
   "metadata": {},
   "outputs": [],
   "source": [
    "thedict = {'Student Name': 'Berry', 'Roll No.': 12, 'Subject': 'English'}"
   ]
  },
  {
   "cell_type": "code",
   "execution_count": 48,
   "id": "06bff843",
   "metadata": {},
   "outputs": [
    {
     "data": {
      "text/plain": [
       "{'Student Name': 'Berry', 'Roll No.': 12, 'Subject': 'English'}"
      ]
     },
     "execution_count": 48,
     "metadata": {},
     "output_type": "execute_result"
    }
   ],
   "source": [
    "thedict"
   ]
  },
  {
   "cell_type": "raw",
   "id": "1f80a12c",
   "metadata": {},
   "source": [
    ">>>>>>>>>>> ---------------  copy()\tReturns a copy of the dictionary"
   ]
  },
  {
   "cell_type": "code",
   "execution_count": 53,
   "id": "e8855590",
   "metadata": {},
   "outputs": [
    {
     "name": "stdout",
     "output_type": "stream",
     "text": [
      "{'brand': 'Ford', 'model': 'Mustang', 'year': 1964}\n"
     ]
    }
   ],
   "source": [
    "car = {\n",
    "  \"brand\": \"Ford\",\n",
    "  \"model\": \"Mustang\",\n",
    "  \"year\": 1964\n",
    "}\n",
    "\n",
    "x = car.copy()\n",
    "\n",
    "print(x)"
   ]
  },
  {
   "cell_type": "raw",
   "id": "6f95522f",
   "metadata": {},
   "source": [
    ">>>>>>>>>>> ---------------  fromkeys()\tReturns a dictionary with the specified keys and value"
   ]
  },
  {
   "cell_type": "code",
   "execution_count": 55,
   "id": "177c7bfe",
   "metadata": {},
   "outputs": [
    {
     "name": "stdout",
     "output_type": "stream",
     "text": [
      "{'key1': 0, 'key2': 0, 'key3': 0}\n"
     ]
    }
   ],
   "source": [
    "x = ('key1', 'key2', 'key3')\n",
    "y = 0\n",
    "\n",
    "thisdict = dict.fromkeys(x, y)\n",
    "\n",
    "print(thisdict)"
   ]
  },
  {
   "cell_type": "code",
   "execution_count": 56,
   "id": "cf42d749",
   "metadata": {},
   "outputs": [
    {
     "name": "stdout",
     "output_type": "stream",
     "text": [
      "{'key1': [2, 3], 'key2': [2, 3], 'key3': [2, 3]}\n"
     ]
    }
   ],
   "source": [
    "x = ('key1', 'key2', 'key3')\n",
    "y = [2,3]\n",
    "\n",
    "thisdict = dict.fromkeys(x, y)\n",
    "\n",
    "print(thisdict)"
   ]
  },
  {
   "cell_type": "code",
   "execution_count": 57,
   "id": "c1a5979a",
   "metadata": {},
   "outputs": [
    {
     "name": "stdout",
     "output_type": "stream",
     "text": [
      "{'key1': (1, 2, 3), 'key2': (1, 2, 3), 'key3': (1, 2, 3)}\n"
     ]
    }
   ],
   "source": [
    "x = ('key1', 'key2', 'key3')\n",
    "y = (1,2,3)\n",
    "\n",
    "thisdict = dict.fromkeys(x, y)\n",
    "\n",
    "print(thisdict)"
   ]
  },
  {
   "cell_type": "raw",
   "id": "7beddca8",
   "metadata": {},
   "source": [
    ">>>>>>>>>>> ---------------    items()\tReturns a list containing a tuple for each key value pair"
   ]
  },
  {
   "cell_type": "code",
   "execution_count": 59,
   "id": "c8066a24",
   "metadata": {},
   "outputs": [
    {
     "name": "stdout",
     "output_type": "stream",
     "text": [
      "dict_items([('brand', 'Ford'), ('model', 'Mustang'), ('year', 1964)])\n"
     ]
    }
   ],
   "source": [
    "car = {\n",
    "  \"brand\": \"Ford\",\n",
    "  \"model\": \"Mustang\",\n",
    "  \"year\": 1964\n",
    "}\n",
    "\n",
    "x = car.items()\n",
    "\n",
    "print(x)"
   ]
  },
  {
   "cell_type": "code",
   "execution_count": 61,
   "id": "95a330ea",
   "metadata": {},
   "outputs": [
    {
     "data": {
      "text/plain": [
       "dict_items"
      ]
     },
     "execution_count": 61,
     "metadata": {},
     "output_type": "execute_result"
    }
   ],
   "source": [
    "type(x)"
   ]
  },
  {
   "cell_type": "code",
   "execution_count": 66,
   "id": "5f1d32c3",
   "metadata": {},
   "outputs": [
    {
     "data": {
      "text/plain": [
       "[('brand', 'Ford'), ('model', 'Mustang'), ('year', 1964)]"
      ]
     },
     "execution_count": 66,
     "metadata": {},
     "output_type": "execute_result"
    }
   ],
   "source": [
    "list(x)"
   ]
  },
  {
   "cell_type": "code",
   "execution_count": 67,
   "id": "66adbee0",
   "metadata": {},
   "outputs": [
    {
     "data": {
      "text/plain": [
       "('model', 'Mustang')"
      ]
     },
     "execution_count": 67,
     "metadata": {},
     "output_type": "execute_result"
    }
   ],
   "source": [
    "list(x)[1]"
   ]
  },
  {
   "cell_type": "raw",
   "id": "604c91c6",
   "metadata": {},
   "source": [
    ">>>>>>>>>>> ---------------    keys()\tReturns a list containing the dictionary's keys"
   ]
  },
  {
   "cell_type": "code",
   "execution_count": 68,
   "id": "a593c712",
   "metadata": {},
   "outputs": [
    {
     "name": "stdout",
     "output_type": "stream",
     "text": [
      "dict_keys(['brand', 'model', 'year'])\n"
     ]
    }
   ],
   "source": [
    "car = {\n",
    "  \"brand\": \"Ford\",\n",
    "  \"model\": \"Mustang\",\n",
    "  \"year\": 1964\n",
    "}\n",
    "\n",
    "x = car.keys()\n",
    "\n",
    "print(x)"
   ]
  },
  {
   "cell_type": "code",
   "execution_count": 69,
   "id": "f6c96c87",
   "metadata": {},
   "outputs": [
    {
     "data": {
      "text/plain": [
       "['brand', 'model', 'year']"
      ]
     },
     "execution_count": 69,
     "metadata": {},
     "output_type": "execute_result"
    }
   ],
   "source": [
    "list(x)"
   ]
  },
  {
   "cell_type": "raw",
   "id": "c11a037e",
   "metadata": {},
   "source": [
    ">>>>>>>>>>> --------------- etdefault()\tReturns the value of the specified key.\n",
    "If the key does not exist: insert the key, with the specified value"
   ]
  },
  {
   "cell_type": "code",
   "execution_count": 73,
   "id": "ce57af0a",
   "metadata": {},
   "outputs": [
    {
     "name": "stdout",
     "output_type": "stream",
     "text": [
      "Mustang\n",
      "{'brand': 'Ford', 'model': 'Mustang', 'year': 1964}\n"
     ]
    }
   ],
   "source": [
    "car = {\n",
    "  \"brand\": \"Ford\",\n",
    "  \"model\": \"Mustang\",\n",
    "  \"year\": 1964\n",
    "}\n",
    "\n",
    "x = car.setdefault(\"model\", \"Bronco\")\n",
    "\n",
    "print(x)\n",
    "print(car)"
   ]
  },
  {
   "cell_type": "code",
   "execution_count": 74,
   "id": "823454cc",
   "metadata": {},
   "outputs": [
    {
     "name": "stdout",
     "output_type": "stream",
     "text": [
      "100000\n",
      "{'brand': 'Ford', 'model': 'Mustang', 'year': 1964, 'price': 100000}\n"
     ]
    }
   ],
   "source": [
    "car = {\n",
    "  \"brand\": \"Ford\",\n",
    "  \"model\": \"Mustang\",\n",
    "  \"year\": 1964\n",
    "}\n",
    "\n",
    "x = car.setdefault(\"price\",100000)\n",
    "\n",
    "print(x)\n",
    "print(car)"
   ]
  },
  {
   "cell_type": "raw",
   "id": "205f2baa",
   "metadata": {},
   "source": [
    ">>>>>>>>>>> ---------------     values()\tReturns a list of all the values in the dictionary"
   ]
  },
  {
   "cell_type": "code",
   "execution_count": 75,
   "id": "62990cdc",
   "metadata": {},
   "outputs": [
    {
     "name": "stdout",
     "output_type": "stream",
     "text": [
      "dict_values(['Ford', 'Mustang', 1964])\n"
     ]
    }
   ],
   "source": [
    "car = {\n",
    "  \"brand\": \"Ford\",\n",
    "  \"model\": \"Mustang\",\n",
    "  \"year\": 1964\n",
    "}\n",
    "\n",
    "x = car.values()\n",
    "\n",
    "print(x)"
   ]
  },
  {
   "cell_type": "code",
   "execution_count": 76,
   "id": "57cdf73d",
   "metadata": {},
   "outputs": [
    {
     "data": {
      "text/plain": [
       "['Ford', 'Mustang', 1964]"
      ]
     },
     "execution_count": 76,
     "metadata": {},
     "output_type": "execute_result"
    }
   ],
   "source": [
    "list(x)"
   ]
  },
  {
   "cell_type": "markdown",
   "id": "da822a82",
   "metadata": {},
   "source": [
    "## Nested Dictionary"
   ]
  },
  {
   "cell_type": "markdown",
   "id": "adff1e01",
   "metadata": {},
   "source": [
    "#### we want to save the information of 3 students in a dictionary"
   ]
  },
  {
   "attachments": {
    "image.png": {
     "image/png": "[encoded data removed]"
    }
   },
   "cell_type": "markdown",
   "id": "a69a4f75",
   "metadata": {},
   "source": [
    "![image.png](attachment:image.png)"
   ]
  },
  {
   "cell_type": "code",
   "execution_count": 80,
   "id": "182e7774",
   "metadata": {},
   "outputs": [],
   "source": [
    "\n",
    "database={}\n",
    "database={'users':['student1','student2','student3']}"
   ]
  },
  {
   "cell_type": "code",
   "execution_count": 81,
   "id": "9458feb4",
   "metadata": {},
   "outputs": [
    {
     "data": {
      "text/plain": [
       "{'users': ['student1', 'student2', 'student3']}"
      ]
     },
     "execution_count": 81,
     "metadata": {},
     "output_type": "execute_result"
    }
   ],
   "source": [
    "database"
   ]
  },
  {
   "cell_type": "code",
   "execution_count": 87,
   "id": "c231fa93",
   "metadata": {},
   "outputs": [],
   "source": [
    "student1={'userinfo':['personal info','course info','contact info']}\n",
    "student2={'userinfo':['personal info','course info','contact info']}\n",
    "student3={'userinfo':['personal info','course info','contact info']}"
   ]
  },
  {
   "cell_type": "code",
   "execution_count": 88,
   "id": "3a0af825",
   "metadata": {},
   "outputs": [],
   "source": [
    "database={'users':\n",
    "          {'student1':student1,'student2':student2,'student3':student3}\n",
    "         }"
   ]
  },
  {
   "cell_type": "code",
   "execution_count": 90,
   "id": "5bc8ec3a",
   "metadata": {},
   "outputs": [
    {
     "data": {
      "text/plain": [
       "{'users': {'student1': {'userinfo': ['personal info',\n",
       "    'course info',\n",
       "    'contact info']},\n",
       "  'student2': {'userinfo': ['personal info', 'course info', 'contact info']},\n",
       "  'student3': {'userinfo': ['personal info', 'course info', 'contact info']}}}"
      ]
     },
     "execution_count": 90,
     "metadata": {},
     "output_type": "execute_result"
    }
   ],
   "source": [
    "database"
   ]
  },
  {
   "cell_type": "raw",
   "id": "0e0221ff",
   "metadata": {},
   "source": [
    "{'users': \n",
    "     {\n",
    "         'student1': {'userinfo': \n",
    "                             ['personal info','course info','contact info']\n",
    "                  },\n",
    "         \n",
    "         'student2': {'userinfo':\n",
    "                             ['personal info', 'course info', 'contact info']\n",
    "                  },\n",
    "         \n",
    "         'student3': {'userinfo':\n",
    "                             ['personal info', 'course info', 'contact info']\n",
    "                     }\n",
    "     }\n",
    "}"
   ]
  },
  {
   "cell_type": "code",
   "execution_count": 97,
   "id": "3e892728",
   "metadata": {},
   "outputs": [
    {
     "data": {
      "text/plain": [
       "['personal info', 'course info', 'contact info']"
      ]
     },
     "execution_count": 97,
     "metadata": {},
     "output_type": "execute_result"
    }
   ],
   "source": [
    "database['users']['student1']['userinfo']"
   ]
  },
  {
   "cell_type": "code",
   "execution_count": 122,
   "id": "e3b0c55f",
   "metadata": {},
   "outputs": [],
   "source": [
    "personalinfo=['firstname','lastname']\n",
    "courseinfo=['coursename','courseteacher']\n",
    "contactinfo=['email','phone']"
   ]
  },
  {
   "cell_type": "code",
   "execution_count": 129,
   "id": "9c348c4a",
   "metadata": {},
   "outputs": [],
   "source": [
    "student1={'personal info':personalinfo,'course info':courseinfo,'contact info':contactinfo}\n",
    "student2={'personal info':personalinfo,'course info':courseinfo,'contact info':contactinfo}\n",
    "student3={'personal info':personalinfo,'course info':courseinfo,'contact info':contactinfo}\n"
   ]
  },
  {
   "cell_type": "code",
   "execution_count": 130,
   "id": "28752be4",
   "metadata": {},
   "outputs": [],
   "source": [
    "database={'users':\n",
    "          {'student1':student1,'student2':student2,'student3':student3}\n",
    "         }"
   ]
  },
  {
   "cell_type": "code",
   "execution_count": 132,
   "id": "f8dc7359",
   "metadata": {},
   "outputs": [
    {
     "data": {
      "text/plain": [
       "['firstname', 'lastname']"
      ]
     },
     "execution_count": 132,
     "metadata": {},
     "output_type": "execute_result"
    }
   ],
   "source": [
    "database['users']['student1']['personal info']"
   ]
  },
  {
   "cell_type": "code",
   "execution_count": 134,
   "id": "cf2d5704",
   "metadata": {},
   "outputs": [],
   "source": [
    "database['users']['student1']['personal info']={'fistname':'Reza','lastname':'Hemmati'}"
   ]
  },
  {
   "cell_type": "code",
   "execution_count": 135,
   "id": "47e1637c",
   "metadata": {},
   "outputs": [
    {
     "data": {
      "text/plain": [
       "{'fistname': 'Reza', 'lastname': 'Hemmati'}"
      ]
     },
     "execution_count": 135,
     "metadata": {},
     "output_type": "execute_result"
    }
   ],
   "source": [
    "database['users']['student1']['personal info']"
   ]
  },
  {
   "cell_type": "code",
   "execution_count": 138,
   "id": "1bb36e12",
   "metadata": {},
   "outputs": [
    {
     "name": "stdout",
     "output_type": "stream",
     "text": [
      "Reza\n",
      "Hemmati\n"
     ]
    }
   ],
   "source": [
    "print(database['users']['student1']['personal info']['fistname'])\n",
    "print(database['users']['student1']['personal info']['lastname'])"
   ]
  },
  {
   "cell_type": "markdown",
   "id": "288eea1d",
   "metadata": {},
   "source": [
    "### another example"
   ]
  },
  {
   "cell_type": "code",
   "execution_count": 143,
   "id": "6ee1b4c8",
   "metadata": {},
   "outputs": [],
   "source": [
    "carbase={\n",
    "    \"carlist\":{\n",
    "        'car1':\n",
    "             {'model':'BWM','Colors':['black','white'],'techinfo':{'motor':'CVT','gear':'Automat'}},\n",
    "        'car2':\n",
    "            {'model':'volexwagon','Colors':['red','yellow'],'techinfo':{'motor':'AT','gear':'Manual'}}\n",
    "    }\n",
    "            \n",
    "        \n",
    "}"
   ]
  },
  {
   "cell_type": "code",
   "execution_count": 148,
   "id": "cbe081d3",
   "metadata": {},
   "outputs": [
    {
     "data": {
      "text/plain": [
       "'Automat'"
      ]
     },
     "execution_count": 148,
     "metadata": {},
     "output_type": "execute_result"
    }
   ],
   "source": [
    "carbase['carlist']['car1']['techinfo']['gear']"
   ]
  },
  {
   "cell_type": "markdown",
   "id": "06625a3a",
   "metadata": {},
   "source": [
    "### another example"
   ]
  },
  {
   "cell_type": "code",
   "execution_count": 149,
   "id": "c19e2d6c",
   "metadata": {},
   "outputs": [],
   "source": [
    "gamesinfo={\n",
    "    'onlinegames':{},\n",
    "    'offlinegames':{}\n",
    "}"
   ]
  },
  {
   "cell_type": "code",
   "execution_count": 150,
   "id": "29217e23",
   "metadata": {},
   "outputs": [],
   "source": [
    "gamesinfo={\n",
    "    'onlinegames':{'list':['Clash','warhunt','dota'],'platforms':['android','ios'],'saleinfo':{'salecount':2000,'saleamount':12500}},\n",
    "    'offlinegames':{'list':['COD','Forza'],'platforms':['Xbox','PS','windows'],'saleinfo':{'salecount':5500,'saleamount':136000}}\n",
    "}"
   ]
  },
  {
   "cell_type": "code",
   "execution_count": 165,
   "id": "f25f5f6c",
   "metadata": {},
   "outputs": [
    {
     "data": {
      "text/plain": [
       "{'offlinegames': {'list': ['COD', 'Forza'],\n",
       "  'platforms': ['Xbox', 'PS', 'windows'],\n",
       "  'saleinfo': {'saleamount': 136000, 'salecount': 5500}},\n",
       " 'onlinegames': {'list': ['Clash', 'warhunt', 'dota'],\n",
       "  'platforms': ['android', 'ios'],\n",
       "  'saleinfo': {'saleamount': 12500, 'salecount': 2000}}}"
      ]
     },
     "execution_count": 165,
     "metadata": {},
     "output_type": "execute_result"
    }
   ],
   "source": [
    "# the json format of our data base :\n",
    "\n",
    "{\n",
    "  \"offlinegames\": {\n",
    "    \"list\": [\n",
    "      \"COD\",\n",
    "      \"Forza\"\n",
    "    ],\n",
    "    \"platforms\": [\n",
    "      \"Xbox\",\n",
    "      \"PS\",\n",
    "      \"windows\"\n",
    "    ],\n",
    "    \"saleinfo\": {\n",
    "      \"saleamount\": 136000,\n",
    "      \"salecount\": 5500\n",
    "    }\n",
    "  },\n",
    "  \"onlinegames\": {\n",
    "    \"list\": [\n",
    "      \"Clash\",\n",
    "      \"warhunt\",\n",
    "      \"dota\"\n",
    "    ],\n",
    "    \"platforms\": [\n",
    "      \"android\",\n",
    "      \"ios\"\n",
    "    ],\n",
    "    \"saleinfo\": {\n",
    "      \"saleamount\": 12500,\n",
    "      \"salecount\": 2000\n",
    "    }\n",
    "  }\n",
    "}"
   ]
  },
  {
   "cell_type": "code",
   "execution_count": 166,
   "id": "00eab910",
   "metadata": {},
   "outputs": [
    {
     "data": {
      "text/plain": [
       "136000"
      ]
     },
     "execution_count": 166,
     "metadata": {},
     "output_type": "execute_result"
    }
   ],
   "source": [
    "gamesinfo['offlinegames']['saleinfo']['saleamount']"
   ]
  }
 ],
 "metadata": {
  "kernelspec": {
   "display_name": "Python 3 (ipykernel)",
   "language": "python",
   "name": "python3"
  },
  "language_info": {
   "codemirror_mode": {
    "name": "ipython",
    "version": 3
   },
   "file_extension": ".py",
   "mimetype": "text/x-python",
   "name": "python",
   "nbconvert_exporter": "python",
   "pygments_lexer": "ipython3",
   "version": "3.9.12"
  }
 },
 "nbformat": 4,
 "nbformat_minor": 5
}

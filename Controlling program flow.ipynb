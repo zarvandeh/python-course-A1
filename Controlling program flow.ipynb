{
 "cells": [
  {
   "cell_type": "markdown",
   "id": "1819ff36-5ae5-4e7b-afef-77f20e23bbf4",
   "metadata": {},
   "source": [
    "# Iterable objects"
   ]
  },
  {
   "cell_type": "markdown",
   "id": "f2d6c42a-5ac7-41a1-89d1-b253209555c8",
   "metadata": {},
   "source": [
    "## strings"
   ]
  },
  {
   "cell_type": "code",
   "execution_count": 1,
   "id": "cbf66006-c7bf-412c-bab1-bea9a376adcd",
   "metadata": {},
   "outputs": [],
   "source": [
    "stexp=\"this is a string example\""
   ]
  },
  {
   "cell_type": "code",
   "execution_count": 6,
   "id": "b177e8da-70f5-441c-8f70-e4bdb6ee9e52",
   "metadata": {},
   "outputs": [
    {
     "name": "stdout",
     "output_type": "stream",
     "text": [
      "t\n",
      "h\n",
      "i\n",
      "s\n",
      " \n",
      "i\n",
      "s\n"
     ]
    }
   ],
   "source": [
    "print(stexp[0])\n",
    "print(stexp[1])\n",
    "print(stexp[2])\n",
    "print(stexp[3])\n",
    "print(stexp[4])\n",
    "print(stexp[5])\n",
    "print(stexp[6])"
   ]
  },
  {
   "cell_type": "markdown",
   "id": "589c5f8c-1c39-493f-b45b-55aa3e029b0b",
   "metadata": {},
   "source": [
    "## list"
   ]
  },
  {
   "cell_type": "code",
   "execution_count": 7,
   "id": "635713cd-e196-4179-a051-55f2ee3ed292",
   "metadata": {},
   "outputs": [],
   "source": [
    "lstexp=['apple','orange','lemon','coconut']"
   ]
  },
  {
   "cell_type": "code",
   "execution_count": 9,
   "id": "2ff08df6-5d64-464f-abc4-52f94e80c336",
   "metadata": {},
   "outputs": [
    {
     "name": "stdout",
     "output_type": "stream",
     "text": [
      "apple\n",
      "orange\n",
      "lemon\n",
      "coconut\n"
     ]
    }
   ],
   "source": [
    "print(lstexp[0])\n",
    "print(lstexp[1])\n",
    "print(lstexp[2])\n",
    "print(lstexp[3])"
   ]
  },
  {
   "cell_type": "markdown",
   "id": "e1a85ff9-ed3a-4712-93c4-0b22ac198242",
   "metadata": {},
   "source": [
    "## Dictionary"
   ]
  },
  {
   "cell_type": "code",
   "execution_count": 38,
   "id": "599cff0a-880d-4dae-bf0a-5956740aa25a",
   "metadata": {},
   "outputs": [],
   "source": [
    "exdict={'name':'hasan','lastname':'hasani','job':['programmer','dbmng','seo specialist']}"
   ]
  },
  {
   "cell_type": "code",
   "execution_count": 39,
   "id": "3520e6ae-f948-4fa2-aadc-010adc09a11c",
   "metadata": {},
   "outputs": [
    {
     "ename": "KeyError",
     "evalue": "0",
     "output_type": "error",
     "traceback": [
      "\u001b[1;31m---------------------------------------------------------------------------\u001b[0m",
      "\u001b[1;31mKeyError\u001b[0m                                  Traceback (most recent call last)",
      "Input \u001b[1;32mIn [39]\u001b[0m, in \u001b[0;36m<cell line: 1>\u001b[1;34m()\u001b[0m\n\u001b[1;32m----> 1\u001b[0m \u001b[43mexdict\u001b[49m\u001b[43m[\u001b[49m\u001b[38;5;241;43m0\u001b[39;49m\u001b[43m]\u001b[49m\n",
      "\u001b[1;31mKeyError\u001b[0m: 0"
     ]
    }
   ],
   "source": [
    "exdict[0]"
   ]
  },
  {
   "cell_type": "code",
   "execution_count": 40,
   "id": "17d5c5ac-5c8b-4a2b-bc04-58de69b64ce7",
   "metadata": {},
   "outputs": [
    {
     "ename": "TypeError",
     "evalue": "'dict_keys' object is not subscriptable",
     "output_type": "error",
     "traceback": [
      "\u001b[1;31m---------------------------------------------------------------------------\u001b[0m",
      "\u001b[1;31mTypeError\u001b[0m                                 Traceback (most recent call last)",
      "Input \u001b[1;32mIn [40]\u001b[0m, in \u001b[0;36m<cell line: 1>\u001b[1;34m()\u001b[0m\n\u001b[1;32m----> 1\u001b[0m \u001b[43mexdict\u001b[49m\u001b[38;5;241;43m.\u001b[39;49m\u001b[43mkeys\u001b[49m\u001b[43m(\u001b[49m\u001b[43m)\u001b[49m\u001b[43m[\u001b[49m\u001b[38;5;241;43m0\u001b[39;49m\u001b[43m]\u001b[49m\n",
      "\u001b[1;31mTypeError\u001b[0m: 'dict_keys' object is not subscriptable"
     ]
    }
   ],
   "source": [
    "exdict.keys()[0]"
   ]
  },
  {
   "cell_type": "code",
   "execution_count": 41,
   "id": "e0002938-790f-49d7-a255-7400fd4142e1",
   "metadata": {},
   "outputs": [
    {
     "name": "stdout",
     "output_type": "stream",
     "text": [
      "name\n",
      "lastname\n",
      "job\n"
     ]
    }
   ],
   "source": [
    "print(list(exdict.keys())[0])\n",
    "print(list(exdict.keys())[1])\n",
    "print(list(exdict.keys())[2])\n"
   ]
  },
  {
   "cell_type": "code",
   "execution_count": 44,
   "id": "031b5730-f650-45b4-99c9-8ac2dfe22c2e",
   "metadata": {},
   "outputs": [
    {
     "name": "stdout",
     "output_type": "stream",
     "text": [
      "hasan\n",
      "hasani\n",
      "programmer\n",
      "dbmng\n",
      "seo specialist\n"
     ]
    }
   ],
   "source": [
    "print(list(exdict.values())[0])\n",
    "print(list(exdict.values())[1])\n",
    "print(list(exdict.values())[2][0])\n",
    "print(list(exdict.values())[2][1])\n",
    "print(list(exdict.values())[2][2])"
   ]
  },
  {
   "cell_type": "code",
   "execution_count": 37,
   "id": "02346575-b13b-4deb-9e5a-be456dacb390",
   "metadata": {},
   "outputs": [
    {
     "data": {
      "text/plain": [
       "'hasan'"
      ]
     },
     "execution_count": 37,
     "metadata": {},
     "output_type": "execute_result"
    }
   ],
   "source": [
    "exdict[list(exdict.keys())[0]]"
   ]
  },
  {
   "cell_type": "markdown",
   "id": "b8ccc40e-80d4-4114-879e-8dd7ed0d8421",
   "metadata": {},
   "source": [
    "## what if i want to calculate something based on iter items?\n",
    "we want to consider values one by one"
   ]
  },
  {
   "cell_type": "markdown",
   "id": "46e01f46-fcc6-44e8-a942-194f40a6487d",
   "metadata": {},
   "source": [
    "## Random numbers"
   ]
  },
  {
   "cell_type": "code",
   "execution_count": 1,
   "id": "5bbf80a8-92a6-4081-9486-0c5a5ba9668f",
   "metadata": {},
   "outputs": [],
   "source": [
    "import random"
   ]
  },
  {
   "cell_type": "code",
   "execution_count": 53,
   "id": "683cd0a3-6d89-419c-af90-2cb73b6a28e2",
   "metadata": {},
   "outputs": [
    {
     "data": {
      "text/plain": [
       "68"
      ]
     },
     "execution_count": 53,
     "metadata": {},
     "output_type": "execute_result"
    }
   ],
   "source": [
    "random.randrange(10,100,2)"
   ]
  },
  {
   "cell_type": "markdown",
   "id": "a3a00a45-b1a8-4ca8-9bb0-d0cbb05881ab",
   "metadata": {},
   "source": [
    "### what if we need 10 new random numbers in a list\n",
    "actually we need to add 1 items 10 times"
   ]
  },
  {
   "cell_type": "code",
   "execution_count": 56,
   "id": "795540ef-cbd9-4fa2-bccf-14abf52266a2",
   "metadata": {},
   "outputs": [
    {
     "data": {
      "text/plain": [
       "[26, 60, 16, 88, 32, 68, 36, 74, 96, 16]"
      ]
     },
     "execution_count": 56,
     "metadata": {},
     "output_type": "execute_result"
    }
   ],
   "source": [
    "testnumbers=[]\n",
    "testnumbers.append(random.randrange(10,100,2))\n",
    "testnumbers.append(random.randrange(10,100,2))\n",
    "testnumbers.append(random.randrange(10,100,2))\n",
    "testnumbers.append(random.randrange(10,100,2))\n",
    "testnumbers.append(random.randrange(10,100,2))\n",
    "testnumbers.append(random.randrange(10,100,2))\n",
    "testnumbers.append(random.randrange(10,100,2))\n",
    "testnumbers.append(random.randrange(10,100,2))\n",
    "testnumbers.append(random.randrange(10,100,2))\n",
    "testnumbers.append(random.randrange(10,100,2))\n",
    "\n",
    "testnumbers"
   ]
  },
  {
   "cell_type": "markdown",
   "id": "9e4b23be-7f14-44b8-a895-9be03b0ab912",
   "metadata": {},
   "source": [
    "## problem\n",
    "what if we need to add a random number to a list based on the numbers of characters in word"
   ]
  },
  {
   "cell_type": "code",
   "execution_count": 57,
   "id": "405c8cd1-ba74-4bcf-af9b-34aeeb4d875f",
   "metadata": {},
   "outputs": [],
   "source": [
    "mytext='Mascarpone'"
   ]
  },
  {
   "cell_type": "code",
   "execution_count": 59,
   "id": "bec69003-8766-40ce-8fde-fbe4bfce9dd0",
   "metadata": {},
   "outputs": [],
   "source": [
    "textsize=len(mytext)"
   ]
  },
  {
   "cell_type": "code",
   "execution_count": 60,
   "id": "9c293533-c3e4-489c-9638-7fc21c4c9d2a",
   "metadata": {},
   "outputs": [
    {
     "name": "stdout",
     "output_type": "stream",
     "text": [
      "Create a list with 10 of random numbers\n"
     ]
    }
   ],
   "source": [
    "print(f'Create a list with {textsize} of random numbers')"
   ]
  },
  {
   "cell_type": "markdown",
   "id": "27c85b8a-f222-4338-9bb4-1c943baa644a",
   "metadata": {},
   "source": [
    "# For Statement"
   ]
  },
  {
   "attachments": {
    "878e1a19-b7d1-415c-a2d4-0b557999b87e.png": {
     "image/png": "[encoded data removed]"
    }
   },
   "cell_type": "markdown",
   "id": "cfbd71ef-8bb1-4c75-ae29-f72b648e2afd",
   "metadata": {},
   "source": [
    "![image.png](attachment:878e1a19-b7d1-415c-a2d4-0b557999b87e.png)"
   ]
  },
  {
   "cell_type": "markdown",
   "id": "fea0bdb3-3719-4066-9889-ee494297754a",
   "metadata": {},
   "source": [
    "IterableObject : ' Mascarpone ' | Iteritems: m a s c a r p o n e"
   ]
  },
  {
   "cell_type": "code",
   "execution_count": 65,
   "id": "2002ca20-ce4a-475d-9e4c-b3cc661aa014",
   "metadata": {},
   "outputs": [
    {
     "name": "stdout",
     "output_type": "stream",
     "text": [
      " Hello \n",
      " Hello \n",
      " Hello \n",
      " Hello \n",
      " Hello \n",
      " Hello \n",
      " Hello \n",
      " Hello \n",
      " Hello \n",
      " Hello \n"
     ]
    }
   ],
   "source": [
    "for char in mytext:\n",
    "    print(' Hello ')"
   ]
  },
  {
   "cell_type": "code",
   "execution_count": 66,
   "id": "a9072644-3a44-4de6-865d-94356c98aaa9",
   "metadata": {},
   "outputs": [
    {
     "name": "stdout",
     "output_type": "stream",
     "text": [
      "10\n",
      "44\n",
      "96\n",
      "30\n",
      "84\n",
      "35\n",
      "47\n",
      "42\n",
      "73\n",
      "90\n"
     ]
    }
   ],
   "source": [
    "for char in mytext:\n",
    "    print(random.randint(10,100))"
   ]
  },
  {
   "cell_type": "code",
   "execution_count": 67,
   "id": "310e379d-637c-4cf7-bd66-0f7f0360c34b",
   "metadata": {},
   "outputs": [],
   "source": [
    "numerics=[]\n",
    "for char in mytext:\n",
    "    numerics.append(random.randint(10,100))"
   ]
  },
  {
   "cell_type": "code",
   "execution_count": 68,
   "id": "5928a492-5393-43d5-a21c-4f25e28995d2",
   "metadata": {},
   "outputs": [
    {
     "data": {
      "text/plain": [
       "[55, 30, 18, 55, 90, 31, 52, 42, 61, 98]"
      ]
     },
     "execution_count": 68,
     "metadata": {},
     "output_type": "execute_result"
    }
   ],
   "source": [
    "numerics"
   ]
  },
  {
   "cell_type": "markdown",
   "id": "3152e994-6aa8-46ff-b858-b886fc51383c",
   "metadata": {},
   "source": [
    "### Attention :\n",
    "The name of the iter items doesnt reallt matters"
   ]
  },
  {
   "cell_type": "markdown",
   "id": "d645ce4c-abf7-4bb1-92d3-236866ae7d85",
   "metadata": {
    "toc-hr-collapsed": true
   },
   "source": [
    "### Example : we need to add 20 random items to a blank list"
   ]
  },
  {
   "cell_type": "code",
   "execution_count": 69,
   "id": "fa048c15-bc8d-4abe-a68d-cab9350d1792",
   "metadata": {},
   "outputs": [],
   "source": [
    "blanklist=[]"
   ]
  },
  {
   "cell_type": "code",
   "execution_count": 72,
   "id": "9a499266-2b2e-4353-bed0-e03126966b71",
   "metadata": {},
   "outputs": [
    {
     "data": {
      "text/plain": [
       "range(0, 20)"
      ]
     },
     "execution_count": 72,
     "metadata": {},
     "output_type": "execute_result"
    }
   ],
   "source": [
    "range(20)\n",
    "\n",
    "# range () method creates a iterable object with a special length"
   ]
  },
  {
   "cell_type": "code",
   "execution_count": 71,
   "id": "b6857391-9ff8-4554-8ff0-4f87f7ddbdd5",
   "metadata": {},
   "outputs": [
    {
     "data": {
      "text/plain": [
       "20"
      ]
     },
     "execution_count": 71,
     "metadata": {},
     "output_type": "execute_result"
    }
   ],
   "source": [
    "len(range(20))"
   ]
  },
  {
   "cell_type": "code",
   "execution_count": 73,
   "id": "c39b46c7-3ca1-4cd7-9d9d-bc170c399cf3",
   "metadata": {},
   "outputs": [],
   "source": [
    "for i in range(20):\n",
    "    blanklist.append(random.randint(1,20))"
   ]
  },
  {
   "cell_type": "code",
   "execution_count": 74,
   "id": "3b28683a-a84b-4279-b131-8e0ebec96f1f",
   "metadata": {},
   "outputs": [
    {
     "data": {
      "text/plain": [
       "[5, 10, 14, 18, 10, 16, 11, 15, 7, 20, 7, 3, 17, 19, 7, 3, 8, 10, 10, 6]"
      ]
     },
     "execution_count": 74,
     "metadata": {},
     "output_type": "execute_result"
    }
   ],
   "source": [
    "blanklist"
   ]
  },
  {
   "cell_type": "markdown",
   "id": "3990e85d-eeaf-447a-950d-00bcc0fbf813",
   "metadata": {},
   "source": [
    "## Example :\n",
    "we need to add 20 random names to a blank list"
   ]
  },
  {
   "cell_type": "code",
   "execution_count": 7,
   "id": "8a7a1d5c-adfd-4042-9708-d87966656065",
   "metadata": {},
   "outputs": [],
   "source": [
    "# pip install randomname"
   ]
  },
  {
   "cell_type": "code",
   "execution_count": 2,
   "id": "1788f96d-d562-4b96-b81d-c0b62d5b785d",
   "metadata": {},
   "outputs": [],
   "source": [
    "import randomname"
   ]
  },
  {
   "cell_type": "code",
   "execution_count": 6,
   "id": "2c44e36c-8eb0-4cf7-ad48-7734a2814a9f",
   "metadata": {},
   "outputs": [
    {
     "data": {
      "text/plain": [
       "'nimble-bush'"
      ]
     },
     "execution_count": 6,
     "metadata": {},
     "output_type": "execute_result"
    }
   ],
   "source": [
    "randomname.get_name()"
   ]
  },
  {
   "cell_type": "code",
   "execution_count": 8,
   "id": "94cdcf47-6a2a-40ec-b2bf-607fdaa983ad",
   "metadata": {},
   "outputs": [],
   "source": [
    "names=[]\n",
    "for i in range(20):\n",
    "    names.append(randomname.get_name())"
   ]
  },
  {
   "cell_type": "code",
   "execution_count": 9,
   "id": "746b2a08-e35a-405c-a0fd-edd385a533ce",
   "metadata": {},
   "outputs": [
    {
     "data": {
      "text/plain": [
       "['iron-stadium',\n",
       " 'unsolvable-molding',\n",
       " 'blue-setback',\n",
       " 'refined-embedding',\n",
       " 'exhaustive-haddock',\n",
       " 'sienna-brick',\n",
       " 'freezing-circuit',\n",
       " 'medium-bridge',\n",
       " 'round-field',\n",
       " 'salmon-amp',\n",
       " 'nearest-tom',\n",
       " 'coal-lane',\n",
       " 'ascent-trust',\n",
       " 'icy-dimension',\n",
       " 'muted-crankshaft',\n",
       " 'free-eel',\n",
       " 'resonnt-alert',\n",
       " 'maximum-codec',\n",
       " 'dynamic-stream',\n",
       " 'aquamarine-siamese']"
      ]
     },
     "execution_count": 9,
     "metadata": {},
     "output_type": "execute_result"
    }
   ],
   "source": [
    "names"
   ]
  },
  {
   "cell_type": "markdown",
   "id": "6ae859d3-b363-42af-a9f2-075b8519a055",
   "metadata": {},
   "source": [
    "## example\n",
    "generate a list of 100 random numbers and calculate the mean of numbers"
   ]
  },
  {
   "cell_type": "code",
   "execution_count": 10,
   "id": "53d2defe-b011-49fe-b02c-a7e4eabccdec",
   "metadata": {},
   "outputs": [],
   "source": [
    "numlist=[]"
   ]
  },
  {
   "cell_type": "code",
   "execution_count": 12,
   "id": "863182fb-409b-46b2-9bff-f0d48b4ef746",
   "metadata": {},
   "outputs": [],
   "source": [
    "for x in range(100):\n",
    "    numlist.append(random.randint(1,100))"
   ]
  },
  {
   "cell_type": "code",
   "execution_count": 16,
   "id": "deebcb29-f879-4db1-b3b1-896b68106532",
   "metadata": {},
   "outputs": [
    {
     "name": "stdout",
     "output_type": "stream",
     "text": [
      "the sumation of the list is 4877\n"
     ]
    }
   ],
   "source": [
    "sumofnums=0\n",
    "for num in numlist :\n",
    "    sumofnums=sumofnums+num\n",
    "print(f'the sumation of the list is {sumofnums}')"
   ]
  },
  {
   "cell_type": "code",
   "execution_count": 44,
   "id": "ba18c997-ed1f-4428-9017-e6a702936e30",
   "metadata": {},
   "outputs": [
    {
     "name": "stdout",
     "output_type": "stream",
     "text": [
      "the lenght of our list is  1000 the sumation of the list is 499105 and the mean of them is 499.105\n"
     ]
    }
   ],
   "source": [
    "numlist=[]\n",
    "sumofnums=0\n",
    "lenofnums=1000\n",
    "\n",
    "for x in range(lenofnums):\n",
    "    numlist.append(random.randint(1,lenofnums))\n",
    "    \n",
    "for num in numlist :\n",
    "    sumofnums=sumofnums+num\n",
    "    \n",
    "meanofnums=sumofnums/lenofnums\n",
    "    \n",
    "print(f'the lenght of our list is  {lenofnums} the sumation of the list is {sumofnums} and the mean of them is {meanofnums}')\n"
   ]
  },
  {
   "cell_type": "markdown",
   "id": "6b912de8-74a8-47ef-9057-e80f4e434cf4",
   "metadata": {},
   "source": [
    "## example\n",
    "Simulate the action of throwing a dice and show the mean of appeared numbers"
   ]
  },
  {
   "cell_type": "code",
   "execution_count": 55,
   "id": "260ffb94-5335-47b1-bf7e-0caf9bc259bc",
   "metadata": {},
   "outputs": [
    {
     "data": {
      "text/plain": [
       "1"
      ]
     },
     "execution_count": 55,
     "metadata": {},
     "output_type": "execute_result"
    }
   ],
   "source": [
    "dice=random.randrange(1,6)\n",
    "dice"
   ]
  },
  {
   "cell_type": "code",
   "execution_count": 56,
   "id": "fa303d5c-35c0-4fc6-a507-878074bdaa93",
   "metadata": {},
   "outputs": [],
   "source": [
    "throwtimes=1000"
   ]
  },
  {
   "cell_type": "code",
   "execution_count": 61,
   "id": "ce0a3a6b-1fdb-4213-8ea7-9db2c2ffb945",
   "metadata": {},
   "outputs": [],
   "source": [
    "result=[]\n",
    "for observations in range(throwtimes):\n",
    "    result.append(random.randrange(1,7))"
   ]
  },
  {
   "cell_type": "code",
   "execution_count": 68,
   "id": "2c7654b0-a7a3-44cf-9ca2-d04245396ea7",
   "metadata": {},
   "outputs": [
    {
     "name": "stdout",
     "output_type": "stream",
     "text": [
      "the dice was throuwed 1000 times and the mean of results was 3.49\n"
     ]
    }
   ],
   "source": [
    "resultsum=0\n",
    "for i in result:\n",
    "    resultsum=resultsum+i\n",
    "resultmean=resultsum/throwtimes\n",
    "print(f'the dice was throuwed {throwtimes} times and the mean of results was {resultmean}')"
   ]
  },
  {
   "cell_type": "code",
   "execution_count": 81,
   "id": "caff9058-151d-4953-9c16-7f95d1d8dcdb",
   "metadata": {},
   "outputs": [
    {
     "name": "stdout",
     "output_type": "stream",
     "text": [
      "the dice was throuwed 1000 times and the mean of results was 3.481\n"
     ]
    }
   ],
   "source": [
    "throwtimes=1000\n",
    "result=[]\n",
    "for observations in range(throwtimes):\n",
    "    result.append(random.randrange(1,7))\n",
    "resultsum=0\n",
    "for i in result:\n",
    "    resultsum=resultsum+i\n",
    "resultmean=resultsum/throwtimes\n",
    "print(f'the dice was throuwed {throwtimes} times and the mean of results was {resultmean}')"
   ]
  },
  {
   "cell_type": "markdown",
   "id": "74d04130-20cf-4cbb-afd3-a09695d49ce6",
   "metadata": {},
   "source": [
    "## For loops and python dictionary"
   ]
  },
  {
   "cell_type": "code",
   "execution_count": 82,
   "id": "c9535228-db2c-4d39-ac3d-6323b7d9021e",
   "metadata": {},
   "outputs": [],
   "source": [
    "thisdict = {\n",
    "  \"brand\": \"Ford\",\n",
    "  \"model\": \"Mustang\",\n",
    "  \"year\": 1964\n",
    "}"
   ]
  },
  {
   "cell_type": "code",
   "execution_count": 83,
   "id": "44f02db4-b563-4505-b272-72a433d8edf3",
   "metadata": {},
   "outputs": [
    {
     "data": {
      "text/plain": [
       "{'brand': 'Ford', 'model': 'Mustang', 'year': 1964}"
      ]
     },
     "execution_count": 83,
     "metadata": {},
     "output_type": "execute_result"
    }
   ],
   "source": [
    "thisdict"
   ]
  },
  {
   "cell_type": "code",
   "execution_count": 84,
   "id": "d75f012e-75b8-4544-8436-69ee155cd3fd",
   "metadata": {},
   "outputs": [
    {
     "name": "stdout",
     "output_type": "stream",
     "text": [
      "brand\n",
      "model\n",
      "year\n"
     ]
    }
   ],
   "source": [
    "for item in thisdict:\n",
    "    print(item)"
   ]
  },
  {
   "cell_type": "code",
   "execution_count": 85,
   "id": "486e53bd-c978-41df-a0a4-29fe27d23eb8",
   "metadata": {},
   "outputs": [
    {
     "name": "stdout",
     "output_type": "stream",
     "text": [
      "Ford\n",
      "Mustang\n",
      "1964\n"
     ]
    }
   ],
   "source": [
    "for item in thisdict:\n",
    "    print(thisdict[item])"
   ]
  },
  {
   "cell_type": "code",
   "execution_count": 86,
   "id": "316dc716-3521-4471-b57f-5fddc8f061c2",
   "metadata": {},
   "outputs": [
    {
     "name": "stdout",
     "output_type": "stream",
     "text": [
      "the key is brand and the value is Ford\n",
      "the key is model and the value is Mustang\n",
      "the key is year and the value is 1964\n"
     ]
    }
   ],
   "source": [
    "for item in thisdict:\n",
    "    print(f'the key is {item} and the value is {thisdict[item]}')"
   ]
  },
  {
   "cell_type": "markdown",
   "id": "bbe5850e-6b78-4e58-a633-bee3a8859eb5",
   "metadata": {},
   "source": [
    "## advanced nested loops"
   ]
  },
  {
   "cell_type": "code",
   "execution_count": 136,
   "id": "df0ecefe-60be-426a-b936-59b428599835",
   "metadata": {},
   "outputs": [
    {
     "name": "stdout",
     "output_type": "stream",
     "text": [
      "this can be a red apple\n",
      "this can be a red banana\n",
      "this can be a red cherry\n",
      "this can be a big apple\n",
      "this can be a big banana\n",
      "this can be a big cherry\n",
      "this can be a tasty apple\n",
      "this can be a tasty banana\n",
      "this can be a tasty cherry\n"
     ]
    }
   ],
   "source": [
    "adj = [\"red\", \"big\", \"tasty\"]\n",
    "fruits = [\"apple\", \"banana\", \"cherry\"]\n",
    "\n",
    "for x in adj:\n",
    "  for y in fruits:\n",
    "    print(f'this can be a '+x+' '+y)"
   ]
  },
  {
   "cell_type": "code",
   "execution_count": 138,
   "id": "6d04ef61-68ec-4e38-bf3c-aef26464d7c3",
   "metadata": {},
   "outputs": [
    {
     "name": "stdout",
     "output_type": "stream",
     "text": [
      "2 * 1 = 2\n",
      "2 * 2 = 4\n",
      "2 * 3 = 6\n",
      "2 * 4 = 8\n",
      "2 * 5 = 10\n",
      "2 * 6 = 12\n",
      "2 * 7 = 14\n",
      "2 * 8 = 16\n",
      "2 * 9 = 18\n",
      "2 * 10 = 20\n",
      "3 * 1 = 3\n",
      "3 * 2 = 6\n",
      "3 * 3 = 9\n",
      "3 * 4 = 12\n",
      "3 * 5 = 15\n",
      "3 * 6 = 18\n",
      "3 * 7 = 21\n",
      "3 * 8 = 24\n",
      "3 * 9 = 27\n",
      "3 * 10 = 30\n",
      "4 * 1 = 4\n",
      "4 * 2 = 8\n",
      "4 * 3 = 12\n",
      "4 * 4 = 16\n",
      "4 * 5 = 20\n",
      "4 * 6 = 24\n",
      "4 * 7 = 28\n",
      "4 * 8 = 32\n",
      "4 * 9 = 36\n",
      "4 * 10 = 40\n"
     ]
    }
   ],
   "source": [
    "for i in range(2, 5):\n",
    "    for j in range(1, 11):\n",
    "        print(i, \"*\", j, \"=\", i*j)"
   ]
  },
  {
   "cell_type": "markdown",
   "id": "10c1acdb-ade9-4430-b7fa-0bfb727dd089",
   "metadata": {},
   "source": [
    "# Using If statement"
   ]
  },
  {
   "cell_type": "code",
   "execution_count": 3,
   "id": "18e94463-4980-4a71-a4bb-ba304f123569",
   "metadata": {},
   "outputs": [],
   "source": [
    "testingnumber=2.5"
   ]
  },
  {
   "attachments": {
    "7b44f351-238c-407b-bdf9-72f8921d4e1d.png": {
     "image/png": "[encoded data removed]"
    }
   },
   "cell_type": "markdown",
   "id": "7756cb99-8c56-42d2-9ac4-d20619fc683f",
   "metadata": {},
   "source": [
    "![image.png](attachment:7b44f351-238c-407b-bdf9-72f8921d4e1d.png)"
   ]
  },
  {
   "cell_type": "code",
   "execution_count": 4,
   "id": "16caddb7-0691-40c5-877c-fc0dd9ef61c7",
   "metadata": {},
   "outputs": [
    {
     "name": "stdout",
     "output_type": "stream",
     "text": [
      "your number is lower than 3\n"
     ]
    }
   ],
   "source": [
    "if testingnumber>3:\n",
    "    print( 'your number is more than 3')\n",
    "else:\n",
    "    print( 'your number is lower than 3')"
   ]
  },
  {
   "cell_type": "markdown",
   "id": "1ec5d430-225a-498e-9be7-2c49dddc04bb",
   "metadata": {},
   "source": [
    "## Example :\n",
    "Check if a input number from user is 0 or odd or even"
   ]
  },
  {
   "cell_type": "code",
   "execution_count": 22,
   "id": "ec14f7e7-9ef9-4549-8459-ce530a6272b6",
   "metadata": {},
   "outputs": [
    {
     "name": "stdin",
     "output_type": "stream",
     "text": [
      "Please enter the number to be checked : 2\n"
     ]
    },
    {
     "name": "stdout",
     "output_type": "stream",
     "text": [
      "your number was even\n"
     ]
    }
   ],
   "source": [
    "myinput=int(input('Please enter the number to be checked :'))\n",
    "if myinput==0:\n",
    "    print('your number was just 0')\n",
    "elif myinput%2==0:\n",
    "    print('your number was even')\n",
    "else:\n",
    "    print(' your number was odd')"
   ]
  },
  {
   "cell_type": "markdown",
   "id": "71dfaadf-341a-4190-b102-d3183ab0dcf2",
   "metadata": {},
   "source": [
    "## example\n",
    "decide based on the lenght of a string"
   ]
  },
  {
   "cell_type": "code",
   "execution_count": 27,
   "id": "79f8ffc3-92a6-41f2-afcd-b9bcc450eb06",
   "metadata": {},
   "outputs": [
    {
     "name": "stdin",
     "output_type": "stream",
     "text": [
      "Please enter a single word in the blank :  \n"
     ]
    },
    {
     "name": "stdout",
     "output_type": "stream",
     "text": [
      "you didnt enter any text here \n"
     ]
    }
   ],
   "source": [
    "mytext=input('Please enter a single word in the blank : ')\n",
    "if len(mytext)==0:\n",
    "    print('you didnt enter any text here ')\n",
    "elif len(mytext)<5:\n",
    "    print(' your text is kinda short yet ')\n",
    "else:\n",
    "    print( 'ok its a good text to read ')"
   ]
  },
  {
   "cell_type": "markdown",
   "id": "5453afa4",
   "metadata": {},
   "source": [
    "## Advance flow (loop+For)\n",
    "Lets try if statement with for loops\n"
   ]
  },
  {
   "cell_type": "code",
   "execution_count": 5,
   "id": "a79cf428",
   "metadata": {},
   "outputs": [],
   "source": [
    "numberbase=[]\n",
    "by3=[]\n",
    "for i in range(100):\n",
    "    numberbase.append(random.randrange(10000,20000))\n",
    "    "
   ]
  },
  {
   "cell_type": "raw",
   "id": "70874ff8",
   "metadata": {},
   "source": [
    "we want to create a new list including those that are dividable by 3"
   ]
  },
  {
   "cell_type": "code",
   "execution_count": 6,
   "id": "eea125e5",
   "metadata": {},
   "outputs": [],
   "source": [
    "for i in numberbase:\n",
    "    if i%3==0:\n",
    "        by3.append(i)\n",
    "        "
   ]
  },
  {
   "cell_type": "markdown",
   "id": "d8616327",
   "metadata": {},
   "source": [
    "## Using breake command"
   ]
  },
  {
   "cell_type": "code",
   "execution_count": 24,
   "id": "683e0435",
   "metadata": {},
   "outputs": [],
   "source": [
    "numberbase=[]\n",
    "testbase=[]\n",
    "for i in range(100):\n",
    "    numberbase.append(random.randrange(10000,20000))\n",
    "    "
   ]
  },
  {
   "cell_type": "code",
   "execution_count": 25,
   "id": "518a5d87",
   "metadata": {},
   "outputs": [],
   "source": [
    "for i in numberbase:\n",
    "    testbase.append(i)\n",
    "    if i>15000:\n",
    "        break\n",
    "    "
   ]
  },
  {
   "cell_type": "code",
   "execution_count": 26,
   "id": "1815c03d",
   "metadata": {},
   "outputs": [
    {
     "data": {
      "text/plain": [
       "[11807, 14089, 17902]"
      ]
     },
     "execution_count": 26,
     "metadata": {},
     "output_type": "execute_result"
    }
   ],
   "source": [
    "testbase"
   ]
  },
  {
   "cell_type": "markdown",
   "id": "80dbbd0a",
   "metadata": {},
   "source": [
    "## example Guess a number"
   ]
  },
  {
   "cell_type": "code",
   "execution_count": 34,
   "id": "46ed8ca2",
   "metadata": {},
   "outputs": [
    {
     "name": "stdout",
     "output_type": "stream",
     "text": [
      "81\n",
      "0- guess the hidden number: 50\n",
      "your answr was 50\n",
      "oh target is greater than you guess !\n",
      "1- guess the hidden number: 60\n",
      "your answr was 60\n",
      "oh target is greater than you guess !\n",
      "2- guess the hidden number: 70\n",
      "your answr was 70\n",
      "oh target is greater than you guess !\n",
      "Oh i am sorry you guessed more than you could do i lets play again\n"
     ]
    }
   ],
   "source": [
    "target=random.randrange(10,100)\n",
    "print(target)\n",
    "\n",
    "for i in range(3):\n",
    "    answer=input(f'{i}- guess the hidden number: ')\n",
    "    answer=int(answer)\n",
    "    print(f'your answr was {answer}')\n",
    "    if answer==target:\n",
    "        print('*****   huray it was the number to guess ****')\n",
    "        break\n",
    "    elif answer>target:\n",
    "        print('mmmm Target is less than you guess')\n",
    "    else:\n",
    "        print('oh target is greater than you guess !')\n",
    "print('Oh i am sorry you guessed more than you could do it\\b lets play again')"
   ]
  },
  {
   "cell_type": "markdown",
   "id": "edd3100c",
   "metadata": {},
   "source": [
    "## nested if statement\n",
    "\n",
    "Find numbers which are more than 20 and devidable by 3"
   ]
  },
  {
   "cell_type": "code",
   "execution_count": 45,
   "id": "c11e790a",
   "metadata": {},
   "outputs": [],
   "source": [
    "numberbase=[]\n",
    "result=[]\n",
    "root=[]\n",
    "for i in range(50):\n",
    "    numberbase.append(random.randrange(10,100))"
   ]
  },
  {
   "cell_type": "code",
   "execution_count": 46,
   "id": "21635086",
   "metadata": {},
   "outputs": [
    {
     "name": "stdout",
     "output_type": "stream",
     "text": [
      "[27, 78, 21, 54, 60, 63, 66, 36, 81, 57, 75]\n",
      "[9, 26, 7, 18, 20, 21, 22, 12, 27, 19, 25]\n"
     ]
    }
   ],
   "source": [
    "for num in numberbase:\n",
    "    if num>20:\n",
    "        if num%3==0:\n",
    "            result.append(num)\n",
    "            root.append(num//3)\n",
    "print(result)\n",
    "print(root)"
   ]
  },
  {
   "cell_type": "markdown",
   "id": "804a5fce",
   "metadata": {},
   "source": [
    "### using logical expression"
   ]
  },
  {
   "cell_type": "code",
   "execution_count": 60,
   "id": "050dbdec",
   "metadata": {},
   "outputs": [],
   "source": [
    "numberbase=[]\n",
    "result=[]\n",
    "rootof3=[]\n",
    "rootof4=[]\n",
    "by7=[]\n",
    "by9=[]\n",
    "rootof7=[]\n",
    "rootof9=[]\n",
    "for i in range(100):\n",
    "    numberbase.append(random.randrange(10,100))"
   ]
  },
  {
   "cell_type": "code",
   "execution_count": 57,
   "id": "dda1273a",
   "metadata": {},
   "outputs": [
    {
     "name": "stdout",
     "output_type": "stream",
     "text": [
      "[48, 48, 60, 48, 96, 36, 12, 84, 96]\n",
      "[16, 16, 20, 16, 32, 12, 4, 28, 32]\n",
      "[12, 12, 15, 12, 24, 9, 3, 21, 24]\n"
     ]
    }
   ],
   "source": [
    "for num in numberbase:\n",
    "    if (num%3==0) & (num%4==0) :\n",
    "        result.append(num)\n",
    "        rootof3.append(num//3)\n",
    "        rootof4.append(num//4)\n",
    "print(result)\n",
    "print(rootof3)\n",
    "print(rootof4)"
   ]
  },
  {
   "cell_type": "code",
   "execution_count": 61,
   "id": "b50aaa46",
   "metadata": {},
   "outputs": [
    {
     "name": "stdout",
     "output_type": "stream",
     "text": [
      "[45, 72, 84, 54, 21, 18, 45, 56, 35, 84, 21, 63, 49, 90, 27, 36, 99, 28]\n",
      "[3, 2, 0, 5, 0, 4, 3, 0, 0, 0, 0, 0, 0, 6, 6, 1, 1, 0]\n",
      "[0, 0, 3, 0, 3, 0, 0, 2, 8, 3, 3, 0, 4, 0, 0, 0, 0, 1]\n"
     ]
    }
   ],
   "source": [
    "for num in numberbase:\n",
    "    if (num%7==0) | (num%9==0) :\n",
    "        result.append(num)\n",
    "        rootof7.append(num%7)\n",
    "        rootof9.append(num%9)\n",
    "print(result)\n",
    "print(rootof7)\n",
    "print(rootof9)"
   ]
  },
  {
   "cell_type": "markdown",
   "id": "972b2e22",
   "metadata": {},
   "source": [
    "# while and while True\n",
    "\n",
    "A while statement in python sets aside a block of code that is to be executed repeatedly until a condition is falsified. The structure of a while loop allows the total number of iterations, or repetitions, to be unknown from the start."
   ]
  },
  {
   "cell_type": "code",
   "execution_count": 8,
   "id": "c6ae3b76",
   "metadata": {},
   "outputs": [
    {
     "data": {
      "text/plain": [
       "[31, 31, 26, 46, 41, 23, 92]"
      ]
     },
     "execution_count": 8,
     "metadata": {},
     "output_type": "execute_result"
    }
   ],
   "source": [
    "flag=0\n",
    "results=[]\n",
    "randnum=0\n",
    "while flag<50:\n",
    "    randnum=random.randrange(0,100)\n",
    "    results.append(randnum)\n",
    "    flag=randnum\n",
    "results  "
   ]
  },
  {
   "cell_type": "markdown",
   "id": "64145f4d",
   "metadata": {},
   "source": [
    "### Find a target calculation using while"
   ]
  },
  {
   "cell_type": "code",
   "execution_count": 23,
   "id": "0d9116c1",
   "metadata": {},
   "outputs": [
    {
     "name": "stdout",
     "output_type": "stream",
     "text": [
      "calculation reach 2400.0103034895296 in r=27.646599999948908 after 276466 Tries\n"
     ]
    }
   ],
   "source": [
    "target=2400\n",
    "r=0.0\n",
    "circ=0\n",
    "calc=(r**2)*3.14\n",
    "while calc<target:\n",
    "    r=r+0.0001\n",
    "    calc=(r**2)*3.14\n",
    "    circ+=1\n",
    "print(f'calculation reach {calc} in r={r} after {circ} Tries')"
   ]
  },
  {
   "cell_type": "code",
   "execution_count": 34,
   "id": "d45a6167",
   "metadata": {
    "collapsed": true
   },
   "outputs": [
    {
     "name": "stdout",
     "output_type": "stream",
     "text": [
      "we found that by setting x as 6.316399999998618 the x^3 will be 252.00483575477855 which is just nearest to 252\n",
      "we tries 63164 times.\n"
     ]
    }
   ],
   "source": [
    "target=252\n",
    "x=0.0\n",
    "calc=x**3\n",
    "tries=0\n",
    "while calc<target:\n",
    "    x+=0.0001\n",
    "    calc=x**3\n",
    "    tries=tries+1\n",
    "print(f'we found that by setting x as {x} the x^3 will be {calc} which is just nearest to {target}\\nwe tries {tries} times.')"
   ]
  },
  {
   "cell_type": "markdown",
   "id": "65f6b1d9",
   "metadata": {},
   "source": [
    "### using while True\n",
    "While True is using when you want to do something forever unless something special happens"
   ]
  },
  {
   "cell_type": "code",
   "execution_count": 36,
   "id": "3ba7566f",
   "metadata": {},
   "outputs": [],
   "source": [
    "import randomname"
   ]
  },
  {
   "cell_type": "code",
   "execution_count": 45,
   "id": "f3cd1039",
   "metadata": {},
   "outputs": [
    {
     "name": "stdout",
     "output_type": "stream",
     "text": [
      "we found a random name : concurrent-volume\n",
      "\n",
      "wanna continue? yes/no:\n",
      "y\n",
      "we found a random name : nice-basin\n",
      "\n",
      "wanna continue? yes/no:\n",
      "no\n",
      "\n",
      "ok we stop the process\n"
     ]
    }
   ],
   "source": [
    "while True:\n",
    "    name=randomname.get_name()\n",
    "    print(f'we found a random name : {name}\\n')\n",
    "    answer=input('wanna continue? yes/no:\\n')\n",
    "    if answer=='no':\n",
    "        print('\\nok we stop the process')\n",
    "        break"
   ]
  },
  {
   "cell_type": "code",
   "execution_count": null,
   "id": "b33a4983",
   "metadata": {},
   "outputs": [],
   "source": []
  }
 ],
 "metadata": {
  "kernelspec": {
   "display_name": "Python 3 (ipykernel)",
   "language": "python",
   "name": "python3"
  },
  "language_info": {
   "codemirror_mode": {
    "name": "ipython",
    "version": 3
   },
   "file_extension": ".py",
   "mimetype": "text/x-python",
   "name": "python",
   "nbconvert_exporter": "python",
   "pygments_lexer": "ipython3",
   "version": "3.9.12"
  }
 },
 "nbformat": 4,
 "nbformat_minor": 5
}
